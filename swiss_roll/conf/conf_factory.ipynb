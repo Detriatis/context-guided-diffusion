{
 "cells": [
  {
   "cell_type": "code",
   "execution_count": 44,
   "id": "c29ac278",
   "metadata": {},
   "outputs": [],
   "source": [
    "import yaml \n",
    "from itertools import product \n",
    "from pathlib import Path\n",
    "import os \n",
    "from swiss_roll import CONF_DIR"
   ]
  },
  {
   "cell_type": "code",
   "execution_count": 45,
   "id": "c70d505c",
   "metadata": {},
   "outputs": [],
   "source": [
    "writeout_dir = CONF_DIR / \"guidance_conf\"\n",
    "if not writeout_dir.exists():\n",
    "    writeout_dir.mkdir(parents=True, exist_ok=True)"
   ]
  },
  {
   "cell_type": "code",
   "execution_count": 46,
   "id": "545324b5",
   "metadata": {},
   "outputs": [
    {
     "name": "stdout",
     "output_type": "stream",
     "text": [
      "Hyperparameter Combinations: 1332\n"
     ]
    }
   ],
   "source": [
    "l2_lambda_values = [10**e for e in [-4, -3, -2, -1, 0, 1, 2, 3, 4]]\n",
    "sigma_t_values   = [10**e for e in [-5, -3, -1, 0, 1, 3, 5]]\n",
    "tau_t_values     = [10**e for e in [-5, -3, -1, 0, 1, 3, 5]]\n",
    "use_ctx = [True]\n",
    "ctx_set_size = [32, 64, 128]\n",
    "\n",
    "search_space = list(product(l2_lambda_values, sigma_t_values, tau_t_values, use_ctx, ctx_set_size))\n",
    "# Append just l2_lambda search for non-context\n",
    "\n",
    "for l2 in l2_lambda_values:\n",
    "    search_space.append((l2, None, None, False, None))\n",
    "\n",
    "print('Hyperparameter Combinations:', len(search_space))"
   ]
  },
  {
   "cell_type": "code",
   "execution_count": 47,
   "id": "e61a6753",
   "metadata": {},
   "outputs": [],
   "source": [
    "for path in os.listdir(CONF_DIR):\n",
    "    if path.endswith('.yaml'):\n",
    "        os.remove(path) "
   ]
  },
  {
   "cell_type": "code",
   "execution_count": 48,
   "id": "a6bf2928",
   "metadata": {},
   "outputs": [],
   "source": [
    "for i, conf in enumerate(search_space): \n",
    "    config = {\n",
    "        \"l2_lambda\": conf[0],\n",
    "        \"sigma_t\": conf[1], \n",
    "        \"tau_t\": conf[2],\n",
    "        \"use_ctx\": conf[3],\n",
    "        \"ctx_size\": conf[4],\n",
    "        \"run_id\": i,\n",
    "    }\n",
    "    \n",
    "    writeout = writeout_dir / f'{i}.yaml'\n",
    "    with open(writeout, 'w') as f:\n",
    "        yaml.dump(config, f)\n"
   ]
  }
 ],
 "metadata": {
  "kernelspec": {
   "display_name": "swiss_roll",
   "language": "python",
   "name": "python3"
  },
  "language_info": {
   "codemirror_mode": {
    "name": "ipython",
    "version": 3
   },
   "file_extension": ".py",
   "mimetype": "text/x-python",
   "name": "python",
   "nbconvert_exporter": "python",
   "pygments_lexer": "ipython3",
   "version": "3.13.5"
  }
 },
 "nbformat": 4,
 "nbformat_minor": 5
}
