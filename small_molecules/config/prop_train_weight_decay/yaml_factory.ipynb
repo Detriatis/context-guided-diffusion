{
 "cells": [
  {
   "cell_type": "code",
   "execution_count": 1,
   "id": "9e1ecb0e-9571-4713-a36a-6da750350545",
   "metadata": {},
   "outputs": [
    {
     "name": "stdout",
     "output_type": "stream",
     "text": [
      "Number of hyperparameter combinations: 8\n"
     ]
    }
   ],
   "source": [
    "import os\n",
    "import itertools\n",
    "\n",
    "prop_dict = {\n",
    "    0: 'parp1_qed_sa',\n",
    "    1: 'fa7_qed_sa',\n",
    "    2: '5ht1b_qed_sa',\n",
    "    3: 'braf_qed_sa',\n",
    "    4: 'jak2_qed_sa',\n",
    "}\n",
    "\n",
    "guidance_weight_dict = {\n",
    "    0: 0.5,\n",
    "    1: 0.7,\n",
    "    2: 0.3,\n",
    "}\n",
    "\n",
    "weight_decays = [1e-8, 1e-7, 1e-6, 1e-5, 1e-4, 1e-3, 1e-2, 1e-1, 0.5]\n",
    "\n",
    "hyper_id_list = [\n",
    "    {\n",
    "        \"wd\": wd[0]\n",
    "    }\n",
    "    for wd in itertools.product(\n",
    "        weight_decays,\n",
    "    )\n",
    "]\n",
    "\n",
    "print(f\"Number of hyperparameter combinations: {len(hyper_id_list) - 1}\")"
   ]
  },
  {
   "cell_type": "code",
   "execution_count": 2,
   "id": "033c28bf-b70b-4b62-b75c-e20811ff6331",
   "metadata": {},
   "outputs": [],
   "source": [
    "prop_train_configs = [f for f in os.listdir(os.getcwd()) if f.endswith('.yaml')]\n",
    "for f in prop_train_configs:\n",
    "    os.remove(f)"
   ]
  },
  {
   "cell_type": "code",
   "execution_count": 3,
   "id": "8f344661-4304-49b5-ac1d-66d8a79505c8",
   "metadata": {},
   "outputs": [],
   "source": [
    "for i in range(5):\n",
    "    for j, hypers in enumerate(hyper_id_list):\n",
    "        config = f\"\"\"data: \n",
    "    data: ZINC250k\n",
    "    dir: './data'\n",
    "    batch_size: 1024\n",
    "    max_node_num: 38\n",
    "    max_feat_num: 9\n",
    "\n",
    "sde:\n",
    "    x:\n",
    "        type: VP\n",
    "        beta_min: 0.1\n",
    "        beta_max: 1.0\n",
    "        num_scales: 1000\n",
    "    adj:\n",
    "        type: VE\n",
    "        beta_min: 0.2\n",
    "        beta_max: 1.0\n",
    "        num_scales: 1000\n",
    "\n",
    "model:\n",
    "    model: Regressor\n",
    "    depth: 3\n",
    "    nhid: 16\n",
    "    dropout: 0\n",
    "\n",
    "train:\n",
    "    prop: {prop_dict[i]}\n",
    "    num_epochs: 10\n",
    "    lr: 0.001\n",
    "    lr_schedule: False\n",
    "    reg_type: weight_decay\n",
    "    weight_decay: {hypers['wd']:1.1e}\n",
    "    lr_decay: 0.999\n",
    "    eps: 1.0e-5\"\"\"\n",
    "\n",
    "        with open(f'prop_train_{i}_{j}.yaml', 'w') as f:\n",
    "            f.write(config)\n",
    "    \n",
    "    for k in range(len(guidance_weight_dict)):\n",
    "        sample_config=f\"\"\"data:\n",
    "  data: ZINC250k\n",
    "  dir: './data'\n",
    "\n",
    "model:\n",
    "  diff:\n",
    "    ckpt: gdss_zinc250k_v2\n",
    "    predictor: Reverse\n",
    "    corrector: Langevin\n",
    "    snr: 0.2\n",
    "    scale_eps: 0.8\n",
    "    n_steps: 1\n",
    "  prop:\n",
    "    ckpt: weight_decay/prop_{prop_dict[i]}\n",
    "    weight_x: {guidance_weight_dict[k]}   # 0.5, 0.4, 0.6, 0.7, and 0.6 for parp1, fa7, 5ht1b, braf, and jak2, respectively\n",
    "    weight_adj: 0\n",
    "\n",
    "sample:\n",
    "  noise_removal: True\n",
    "  probability_flow: False\n",
    "  eps: 1.0e-3\n",
    "  num_samples: 3000\n",
    "  ood: 0.04\n",
    "        \"\"\"\n",
    "\n",
    "        with open(f'sample_{i}_{k}.yaml', 'w') as f:\n",
    "            f.write(sample_config)"
   ]
  },
  {
   "cell_type": "code",
   "execution_count": null,
   "id": "d995e936-9d27-4ef4-be51-6518252d51ca",
   "metadata": {},
   "outputs": [],
   "source": []
  },
  {
   "cell_type": "code",
   "execution_count": null,
   "id": "04606019-1be6-4d8e-978a-8398eae18505",
   "metadata": {},
   "outputs": [],
   "source": []
  }
 ],
 "metadata": {
  "kernelspec": {
   "display_name": "gauche",
   "language": "python",
   "name": "python3"
  },
  "language_info": {
   "codemirror_mode": {
    "name": "ipython",
    "version": 3
   },
   "file_extension": ".py",
   "mimetype": "text/x-python",
   "name": "python",
   "nbconvert_exporter": "python",
   "pygments_lexer": "ipython3",
   "version": "3.10.8"
  }
 },
 "nbformat": 4,
 "nbformat_minor": 5
}
