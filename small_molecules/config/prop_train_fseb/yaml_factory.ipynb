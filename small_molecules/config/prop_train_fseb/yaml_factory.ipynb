{
 "cells": [
  {
   "cell_type": "markdown",
   "metadata": {},
   "source": [
    "## Specify hyperparameter grid"
   ]
  },
  {
   "cell_type": "code",
   "execution_count": 15,
   "metadata": {},
   "outputs": [
    {
     "name": "stdout",
     "output_type": "stream",
     "text": [
      "Number of hyperparameter combinations: 57\n"
     ]
    }
   ],
   "source": [
    "import os\n",
    "import itertools\n",
    "\n",
    "prop_dict = {\n",
    "#    0: 'parp1_qed_sa',\n",
    "#    1: 'fa7_qed_sa',\n",
    "    2: '5ht1b_qed_sa',\n",
    "#    3: 'braf_qed_sa',\n",
    "#    4: 'jak2_qed_sa',\n",
    "}\n",
    "\n",
    "guidance_weight_dict = {\n",
    "    0: 0.5,\n",
    "    1: 0.7,\n",
    "    2: 0.3,\n",
    "}\n",
    "\n",
    "hyp_prior_likelihood_cov_scale = [1e-5, 1e-3, 1e-1, 1e0, 1e1, 1e3]\n",
    "hyp_prior_likelihood_cov_diag = [1e-5, 1e-3, 1e-1, 1e0, 1e1, 1e3]\n",
    "n_context_points = [256, 512]\n",
    "\n",
    "hyper_id_list = [\n",
    "    {\n",
    "        \"prior_likelihood_cov_scale\": plcs,\n",
    "        \"prior_likelihood_cov_diag\": plcd,\n",
    "        \"n_context_points\": ncp,\n",
    "    }\n",
    "    for plcs, plcd, ncp in itertools.product(\n",
    "        hyp_prior_likelihood_cov_scale,\n",
    "        hyp_prior_likelihood_cov_diag,\n",
    "        n_context_points,\n",
    "    )\n",
    "    if not (\n",
    "        plcs != 0 and plcd / plcs < 1e-3\n",
    "    )  # runs with low diag to scale ration always fail\n",
    "]\n",
    "\n",
    "print(f\"Number of hyperparameter combinations: {len(hyper_id_list) - 1}\")"
   ]
  },
  {
   "cell_type": "markdown",
   "metadata": {},
   "source": [
    "## Remove any existing configs"
   ]
  },
  {
   "cell_type": "code",
   "execution_count": 18,
   "metadata": {},
   "outputs": [],
   "source": [
    "prop_train_configs = [f for f in os.listdir(os.getcwd()) if f.endswith('.yaml')]\n",
    "for f in prop_train_configs:\n",
    "    os.remove(f)"
   ]
  },
  {
   "cell_type": "markdown",
   "metadata": {},
   "source": [
    "## Generate new configs"
   ]
  },
  {
   "cell_type": "code",
   "execution_count": 17,
   "metadata": {},
   "outputs": [],
   "source": [
    "keys = prop_dict.keys()\n",
    "for i in list(keys):\n",
    "    for j, hypers in enumerate(hyper_id_list):\n",
    "        config = f\"\"\"data: \n",
    "    data: ZINC250k\n",
    "    context: ZINC500k\n",
    "    dir: './data'\n",
    "    batch_size: 1024\n",
    "    context_size: {hypers['n_context_points']}\n",
    "    max_node_num: 38\n",
    "    max_feat_num: 9\n",
    "\n",
    "sde:\n",
    "    x:\n",
    "        type: VP\n",
    "        beta_min: 0.1\n",
    "        beta_max: 1.0\n",
    "        num_scales: 1000\n",
    "    adj:\n",
    "        type: VE\n",
    "        beta_min: 0.2\n",
    "        beta_max: 1.0\n",
    "        num_scales: 1000\n",
    "\n",
    "model:\n",
    "    model: Regressor\n",
    "    depth: 3\n",
    "    nhid: 16\n",
    "    dropout: 0\n",
    "\n",
    "train:\n",
    "    prop: {prop_dict[i]}\n",
    "    num_epochs: 10\n",
    "    lr: 0.001\n",
    "    lr_schedule: False\n",
    "    reg_type: fseb\n",
    "    weight_decay: 0\n",
    "    prior_likelihood_cov_diag: {hypers['prior_likelihood_cov_diag']:1.1e}\n",
    "    prior_likelihood_cov_scale: {hypers['prior_likelihood_cov_scale']:1.1e}\n",
    "    lr_decay: 0.999\n",
    "    eps: 1.0e-5\"\"\"\n",
    "\n",
    "        with open(f'prop_train_{i}_{j}.yaml', 'w') as f:\n",
    "            f.write(config)\n",
    "    \n",
    "    for k in range(len(guidance_weight_dict)):\n",
    "        sample_config=f\"\"\"data:\n",
    "  data: ZINC250k\n",
    "  dir: './data'\n",
    "\n",
    "model:\n",
    "  diff:\n",
    "    ckpt: gdss_zinc250k_v2\n",
    "    predictor: Reverse\n",
    "    corrector: Langevin\n",
    "    snr: 0.2\n",
    "    scale_eps: 0.8\n",
    "    n_steps: 1\n",
    "  prop:\n",
    "    ckpt: fseb_ZINC500k/prop_{prop_dict[i]}\n",
    "    weight_x: {guidance_weight_dict[k]}   # 0.5, 0.4, 0.6, 0.7, and 0.6 for parp1, fa7, 5ht1b, braf, and jak2, respectively\n",
    "    weight_adj: 0\n",
    "\n",
    "sample:\n",
    "  noise_removal: True\n",
    "  probability_flow: False\n",
    "  eps: 1.0e-3\n",
    "  num_samples: 3000\n",
    "  ood: 0.04\n",
    "        \"\"\"\n",
    "\n",
    "        with open(f'sample_{i}_{k}.yaml', 'w') as f:\n",
    "            f.write(sample_config)"
   ]
  }
 ],
 "metadata": {
  "kernelspec": {
   "display_name": "swiss_roll",
   "language": "python",
   "name": "python3"
  },
  "language_info": {
   "codemirror_mode": {
    "name": "ipython",
    "version": 3
   },
   "file_extension": ".py",
   "mimetype": "text/x-python",
   "name": "python",
   "nbconvert_exporter": "python",
   "pygments_lexer": "ipython3",
   "version": "3.13.5"
  }
 },
 "nbformat": 4,
 "nbformat_minor": 4
}
