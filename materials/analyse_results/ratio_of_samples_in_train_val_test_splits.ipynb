{
 "cells": [
  {
   "cell_type": "code",
   "execution_count": 1,
   "id": "a10e22b3-8d41-4a95-b020-3c8ed82b3305",
   "metadata": {},
   "outputs": [],
   "source": [
    "import os\n",
    "import pickle\n",
    "import numpy as np\n",
    "import pandas as pd\n",
    "from tqdm import tqdm\n",
    "from rdkit import Chem\n",
    "\n",
    "mol_path = os.path.abspath(os.path.join(\n",
    "    os.path.abspath(\"\"), \"..\", # root directory\n",
    "    \"generated_molecules\", # directory with experimental results\n",
    "    \"rerun_diffseeds\", # run name\n",
    "))\n",
    "\n",
    "tqdm.pandas()"
   ]
  },
  {
   "cell_type": "code",
   "execution_count": 2,
   "id": "300b2e2d-cec6-4f38-b169-fc9faa0ca54b",
   "metadata": {},
   "outputs": [],
   "source": [
    "# load dataset\n",
    "\n",
    "df = pd.read_pickle(\"/data/stat-cadd/bras5033/guided_diffusion/GaUDI/data/datasets/COMPAS-1x_reduced.csv\")\n",
    "df[\"objective\"] = 3*df[\"GAP_eV\"] + df[\"aIP_eV\"] - df[\"aEA_eV\"]\n",
    "df[\"objective\"] = (df.objective  - df.objective.min()) / (df.objective.max() - df.objective.min())\n",
    "\n",
    "# discard benzene\n",
    "df = df[df[\"n_rings\"] > 10]"
   ]
  },
  {
   "cell_type": "code",
   "execution_count": 3,
   "id": "30a38a3b-e867-4b30-82e3-9704b939c018",
   "metadata": {},
   "outputs": [],
   "source": [
    "split_map = {\n",
    "        -1: \"< 11 rings\", 0: \"training set\", 1: \"validation set\", 2: \"test_set\",\n",
    "    }\n",
    "\n",
    "df[\"Data Split\"] = df[\"cluster_split\"].map(split_map) "
   ]
  },
  {
   "cell_type": "code",
   "execution_count": 4,
   "id": "28252276-0ddf-4e96-8a79-3599ecd56637",
   "metadata": {},
   "outputs": [
    {
     "name": "stderr",
     "output_type": "stream",
     "text": [
      "100%|██████████████████████████████████████████████████████████████████████████████████████████████████████| 25394/25394 [00:25<00:00, 1015.03it/s]\n"
     ]
    },
    {
     "data": {
      "text/plain": [
       "Index(['molecule', 'smiles', 'balaban_notation', 'augmented_lalas', 'lalas',\n",
       "       'HOMO_eV', 'LUMO_eV', 'GAP_eV', 'Dipmom_Debye', 'Etot_eV',\n",
       "       'Etot_pos_eV', 'Etot_neg_eV', 'ZPE_eV', 'ZPE_pos_eV', 'ZPE_neg_eV',\n",
       "       'aEA_eV', 'aIP_eV', 'dispersion_eV', 'n_rings', 'Erel_eV',\n",
       "       'cluster_split', 'random_split', 'objective', 'Data Split', 'inchi'],\n",
       "      dtype='object')"
      ]
     },
     "execution_count": 4,
     "metadata": {},
     "output_type": "execute_result"
    }
   ],
   "source": [
    "# csv_path = \"/data/stat-cadd/bras5033/guided_diffusion/GaUDI/data/datasets/COMPAS-1x_reduced.csv\"\n",
    "# df = pd.read_pickle(csv_path)\n",
    "df = df.reset_index(drop=True)\n",
    "df[\"inchi\"] = df[\"smiles\"].progress_apply(lambda x: Chem.MolToInchi(Chem.MolFromSmiles(x)))\n",
    "df.columns"
   ]
  },
  {
   "cell_type": "code",
   "execution_count": 5,
   "id": "136ed6ed-b4ab-4fdd-bd5c-8c09027783b7",
   "metadata": {},
   "outputs": [
    {
     "name": "stderr",
     "output_type": "stream",
     "text": [
      "/data/stat-cadd/bras5033/envs/GaUDI/lib/python3.8/site-packages/tqdm/auto.py:21: TqdmWarning: IProgress not found. Please update jupyter and ipywidgets. See https://ipywidgets.readthedocs.io/en/stable/user_install.html\n",
      "  from .autonotebook import tqdm as notebook_tqdm\n"
     ]
    },
    {
     "data": {
      "text/plain": [
       "Index(['split', 'context_set', 'reg_type', 'scale', 'rerun_iteration', 'alpha',\n",
       "       'x_stable', 'atom_type_stable', 'pred', 'target_function_values',\n",
       "       'mol_valid', 'mol_unique', 'molecule_valid_bool', 'valid_inchi'],\n",
       "      dtype='object')"
      ]
     },
     "execution_count": 5,
     "metadata": {},
     "output_type": "execute_result"
    }
   ],
   "source": [
    "results = []\n",
    "files = [f for f in os.listdir(mol_path)]\n",
    "\n",
    "for f in files:\n",
    "    with open(os.path.join(mol_path, f), \"rb\") as pf:\n",
    "        results.extend(pickle.load(pf))\n",
    "        \n",
    "results = pd.DataFrame(results, copy=False)\n",
    "results[\"reg_type\"] = results.apply(lambda x: \"_\".join([x[\"reg_type\"], x[\"context_set\"]]), axis=1)\n",
    "results = results[results[\"split\"] == \"cluster_split\"]\n",
    "results.columns"
   ]
  },
  {
   "cell_type": "code",
   "execution_count": 6,
   "id": "a5f2fac7-62da-47e1-8731-67d5ed704305",
   "metadata": {},
   "outputs": [],
   "source": [
    "# get inchi -> train/val/test set map\n",
    "set_map = df[[\"inchi\", \"cluster_split\"]]\n",
    "set_map = set_map.set_index(\"inchi\")[\"cluster_split\"]\n",
    "set_map = set_map.map({0: \"training set\", 1: \"validation set\", 2:\"test set\"})"
   ]
  },
  {
   "cell_type": "code",
   "execution_count": 7,
   "id": "bfff73c8-88e4-49b1-a139-d57aa56c3e0a",
   "metadata": {},
   "outputs": [
    {
     "name": "stdout",
     "output_type": "stream",
     "text": [
      "Scale 0\n"
     ]
    },
    {
     "data": {
      "text/plain": [
       "set\n",
       "test set          0.04±0.00\n",
       "training set      0.91±0.01\n",
       "validation set    0.05±0.00\n",
       "dtype: object"
      ]
     },
     "metadata": {},
     "output_type": "display_data"
    },
    {
     "name": "stdout",
     "output_type": "stream",
     "text": [
      "\n",
      "Scale 4\n"
     ]
    },
    {
     "data": {
      "text/plain": [
       "set\n",
       "test set          0.47±0.07\n",
       "training set      0.16±0.04\n",
       "validation set    0.40±0.05\n",
       "dtype: object"
      ]
     },
     "metadata": {},
     "output_type": "display_data"
    },
    {
     "name": "stdout",
     "output_type": "stream",
     "text": [
      "\n"
     ]
    }
   ],
   "source": [
    "fseb_results = results.loc[\n",
    "    (results[\"reg_type\"] == \"fseb_all\") & (results[\"scale\"].isin([0, 4])), \n",
    "    [\"reg_type\", \"scale\", \"rerun_iteration\", \"valid_inchi\"]\n",
    "].explode(\"valid_inchi\").dropna().reset_index(drop=True)\n",
    "\n",
    "fseb_results[\"set\"] = fseb_results[\"valid_inchi\"].map(set_map)\n",
    "\n",
    "for scale in fseb_results[\"scale\"].unique():\n",
    "    temp = fseb_results[fseb_results[\"scale\"] == scale]\n",
    "    counts = temp.groupby(\"rerun_iteration\")[\"set\"].value_counts(normalize=True).unstack()#.dropna()\n",
    "    counts = counts.sort_index()\n",
    "    mean_counts = counts.mean(0)\n",
    "    std_counts = counts.std(0) / np.sqrt(10)\n",
    "    \n",
    "    formatted_stats = (mean_counts.apply(lambda x: f\"{x:.2f}\") + \"±\" + std_counts.apply(lambda x: f\"{x:.2f}\"))\n",
    "\n",
    "    print(\"Scale\", scale)\n",
    "    display(formatted_stats)\n",
    "    print()"
   ]
  },
  {
   "cell_type": "code",
   "execution_count": 8,
   "id": "22d299a1-cfdd-4bac-9e7c-a51a1a8b637e",
   "metadata": {},
   "outputs": [
    {
     "name": "stdout",
     "output_type": "stream",
     "text": [
      "Scale 0\n"
     ]
    },
    {
     "data": {
      "text/plain": [
       "set\n",
       "test set          0.04±0.00\n",
       "training set      0.91±0.01\n",
       "validation set    0.05±0.00\n",
       "dtype: object"
      ]
     },
     "metadata": {},
     "output_type": "display_data"
    },
    {
     "name": "stdout",
     "output_type": "stream",
     "text": [
      "\n",
      "Scale 4\n"
     ]
    },
    {
     "data": {
      "text/plain": [
       "set\n",
       "test set          0.19±0.03\n",
       "training set      0.49±0.07\n",
       "validation set    0.32±0.05\n",
       "dtype: object"
      ]
     },
     "metadata": {},
     "output_type": "display_data"
    },
    {
     "name": "stdout",
     "output_type": "stream",
     "text": [
      "\n"
     ]
    }
   ],
   "source": [
    "fseb_results = results.loc[\n",
    "    (results[\"reg_type\"] == \"ps_all\") & (results[\"scale\"].isin([0, 4])), \n",
    "    [\"reg_type\", \"scale\", \"rerun_iteration\", \"valid_inchi\"]\n",
    "].explode(\"valid_inchi\").dropna().reset_index(drop=True)\n",
    "\n",
    "fseb_results[\"set\"] = fseb_results[\"valid_inchi\"].map(set_map)\n",
    "\n",
    "for scale in fseb_results[\"scale\"].unique():\n",
    "    temp = fseb_results[fseb_results[\"scale\"] == scale]\n",
    "    counts = temp.groupby(\"rerun_iteration\")[\"set\"].value_counts(normalize=True).unstack()#.dropna()\n",
    "    counts = counts.sort_index()\n",
    "    mean_counts = counts.mean(0)\n",
    "    std_counts = counts.std(0) / np.sqrt(10)\n",
    "    \n",
    "    formatted_stats = (mean_counts.apply(lambda x: f\"{x:.2f}\") + \"±\" + std_counts.apply(lambda x: f\"{x:.2f}\"))\n",
    "\n",
    "    print(\"Scale\", scale)\n",
    "    display(formatted_stats)\n",
    "    print()"
   ]
  }
 ],
 "metadata": {
  "kernelspec": {
   "display_name": "GaUDI",
   "language": "python",
   "name": "gaudi"
  },
  "language_info": {
   "codemirror_mode": {
    "name": "ipython",
    "version": 3
   },
   "file_extension": ".py",
   "mimetype": "text/x-python",
   "name": "python",
   "nbconvert_exporter": "python",
   "pygments_lexer": "ipython3",
   "version": "3.8.16"
  }
 },
 "nbformat": 4,
 "nbformat_minor": 5
}
